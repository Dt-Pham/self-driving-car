{
 "cells": [
  {
   "cell_type": "code",
   "execution_count": 1,
   "metadata": {},
   "outputs": [],
   "source": [
    "def update(mean1, var1, mean2, var2):\n",
    "    new_mean = 1.0/(var1 + var2) * (mean1 * var2 + mean2 * var1)\n",
    "    new_var = 1.0/(1.0/var1 + 1.0/var2)\n",
    "    return [new_mean, new_var]"
   ]
  },
  {
   "cell_type": "code",
   "execution_count": 5,
   "metadata": {},
   "outputs": [],
   "source": [
    "def predict(mean1, var1, mean2, var2):\n",
    "    new_mean = mean1 + mean2\n",
    "    new_var = var1 + var2\n",
    "    return [new_mean, new_var]"
   ]
  },
  {
   "cell_type": "code",
   "execution_count": 19,
   "metadata": {},
   "outputs": [
    {
     "name": "stdout",
     "output_type": "stream",
     "text": [
      "update:  4.998000799680128 3.9984006397441023\n",
      "predict:  5.998000799680128 5.998400639744102\n",
      "update:  5.999200191953931 2.399744061425258\n",
      "predict:  6.999200191953931 4.399744061425258\n",
      "update:  6.4758241130429814 2.0951800575117594\n",
      "predict:  8.475824113042982 4.09518005751176\n",
      "update:  8.740993587180007 2.0235152416216957\n",
      "predict:  9.740993587180007 4.023515241621696\n",
      "update:  9.87087634034698 2.0058615808441944\n",
      "predict:  10.87087634034698 4.005861580844194\n"
     ]
    }
   ],
   "source": [
    "measurements = [5., 6., 7., 9., 10.]\n",
    "motions = [1., 1., 2., 1., 1.]\n",
    "measurement_sig = 4\n",
    "motion_sig = 2\n",
    "mu = 0.\n",
    "sig = 10000.\n",
    "\n",
    "for x, y in zip(measurements, motions):\n",
    "    mu, sig = update(mu, sig, x, measurement_sig)\n",
    "    print(\"update: \", mu, sig)\n",
    "    mu, sig = predict(mu, sig, y, motion_sig)\n",
    "    print(\"predict: \", mu, sig)"
   ]
  }
 ],
 "metadata": {
  "kernelspec": {
   "display_name": "Python 3",
   "language": "python",
   "name": "python3"
  },
  "language_info": {
   "codemirror_mode": {
    "name": "ipython",
    "version": 3
   },
   "file_extension": ".py",
   "mimetype": "text/x-python",
   "name": "python",
   "nbconvert_exporter": "python",
   "pygments_lexer": "ipython3",
   "version": "3.7.1"
  }
 },
 "nbformat": 4,
 "nbformat_minor": 2
}
