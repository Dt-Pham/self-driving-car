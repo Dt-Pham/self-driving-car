{
 "cells": [
  {
   "cell_type": "code",
   "execution_count": 1,
   "metadata": {},
   "outputs": [],
   "source": [
    "def update(mean1, var1, mean2, var2):\n",
    "    new_mean = 1.0/(var1 + var2) * (mean1 * var2 + mean2 * var1)\n",
    "    new_var = 1.0/(1.0/var1 + 1.0/var2)\n",
    "    return [new_mean, new_var]"
   ]
  },
  {
   "cell_type": "code",
   "execution_count": 5,
   "metadata": {},
   "outputs": [],
   "source": [
    "def predict(mean1, var1, mean2, var2):\n",
    "    new_mean = mean1 + mean2\n",
    "    new_var = var1 + var2\n",
    "    return [new_mean, new_var]"
   ]
  },
  {
   "cell_type": "code",
   "execution_count": 21,
   "metadata": {},
   "outputs": [
    {
     "name": "stdout",
     "output_type": "stream",
     "text": [
      "update:  1.2499999999999687e-13 9.99999999999975e-14\n",
      "predict:  1.000000000000125 2.0000000000001\n",
      "update:  2.666666666666806 1.3333333333333777\n",
      "predict:  3.666666666666806 3.3333333333333774\n",
      "update:  5.181818181818269 1.8181818181818312\n",
      "predict:  7.181818181818269 3.818181818181831\n",
      "update:  8.069767441860511 1.9534883720930267\n",
      "predict:  9.069767441860511 3.9534883720930267\n",
      "update:  9.53216374269008 1.9883040935672525\n",
      "predict:  10.53216374269008 3.9883040935672525\n"
     ]
    }
   ],
   "source": [
    "measurements = [5., 6., 7., 9., 10.]\n",
    "motions = [1., 1., 2., 1., 1.]\n",
    "measurement_sig = 4\n",
    "motion_sig = 2\n",
    "mu = 0.\n",
    "sig = 0.0000000000001\n",
    "\n",
    "for x, y in zip(measurements, motions):\n",
    "    mu, sig = update(mu, sig, x, measurement_sig)\n",
    "    print(\"update: \", mu, sig)\n",
    "    mu, sig = predict(mu, sig, y, motion_sig)\n",
    "    print(\"predict: \", mu, sig)"
   ]
  }
 ],
 "metadata": {
  "kernelspec": {
   "display_name": "Python 3",
   "language": "python",
   "name": "python3"
  },
  "language_info": {
   "codemirror_mode": {
    "name": "ipython",
    "version": 3
   },
   "file_extension": ".py",
   "mimetype": "text/x-python",
   "name": "python",
   "nbconvert_exporter": "python",
   "pygments_lexer": "ipython3",
   "version": "3.7.1"
  }
 },
 "nbformat": 4,
 "nbformat_minor": 2
}
