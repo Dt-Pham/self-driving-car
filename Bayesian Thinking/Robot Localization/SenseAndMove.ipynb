{
 "cells": [
  {
   "cell_type": "code",
   "execution_count": 1,
   "metadata": {},
   "outputs": [],
   "source": [
    "p = [0.2, 0.2, 0.2, 0.2, 0.2]\n",
    "world = [\"green\", \"red\", \"red\", \"green\", \"green\"]\n",
    "\n",
    "measurements = [\"red\", \"red\"]\n",
    "motions = [1, 1]\n",
    "\n",
    "pHit = 0.6\n",
    "pMiss = 0.2\n",
    "\n",
    "pExact = 0.8\n",
    "pOvershoot = 0.1\n",
    "pUndershoot = 0.1"
   ]
  },
  {
   "cell_type": "code",
   "execution_count": 2,
   "metadata": {},
   "outputs": [],
   "source": [
    "def move(p, U):\n",
    "    n = len(p)\n",
    "    q = [0 for i in range(n)]\n",
    "    for i in range(n):\n",
    "        q[(i + U) % n] += p[i] * pExact;\n",
    "        q[(i + U + 1) % n] += p[i] * pOvershoot;\n",
    "        q[(i + U - 1) % n] += p[i] * pUndershoot;\n",
    "    \n",
    "    return q"
   ]
  },
  {
   "cell_type": "code",
   "execution_count": 3,
   "metadata": {},
   "outputs": [],
   "source": [
    "def sense(p, Z):\n",
    "    q = [x * pHit if y == Z else x * pMiss for x, y in zip(p, world)]\n",
    "    s = sum(q)\n",
    "    q = [x / s for x in q]\n",
    "    return q"
   ]
  },
  {
   "cell_type": "code",
   "execution_count": 4,
   "metadata": {},
   "outputs": [
    {
     "name": "stdout",
     "output_type": "stream",
     "text": [
      "[0.07882352941176471, 0.07529411764705884, 0.22470588235294117, 0.4329411764705882, 0.18823529411764706]\n"
     ]
    }
   ],
   "source": [
    "for x, y in zip(measurements, motions):\n",
    "    p = sense(p, x)\n",
    "    p = move(p, y)\n",
    "\n",
    "print(p)"
   ]
  }
 ],
 "metadata": {
  "kernelspec": {
   "display_name": "Python 3",
   "language": "python",
   "name": "python3"
  },
  "language_info": {
   "codemirror_mode": {
    "name": "ipython",
    "version": 3
   },
   "file_extension": ".py",
   "mimetype": "text/x-python",
   "name": "python",
   "nbconvert_exporter": "python",
   "pygments_lexer": "ipython3",
   "version": "3.7.1"
  }
 },
 "nbformat": 4,
 "nbformat_minor": 2
}
