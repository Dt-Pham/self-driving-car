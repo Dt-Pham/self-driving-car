{
 "cells": [
  {
   "cell_type": "code",
   "execution_count": 1,
   "metadata": {},
   "outputs": [],
   "source": [
    "p = [0, 1, 0, 0, 0]\n",
    "pExact = 0.8\n",
    "pOvershoot = 0.1\n",
    "pUndershoot = 0.1"
   ]
  },
  {
   "cell_type": "code",
   "execution_count": 2,
   "metadata": {},
   "outputs": [],
   "source": [
    "def move(p, U):\n",
    "    n = len(p)\n",
    "    q = [0 for i in range(n)]\n",
    "    for i in range(n):\n",
    "        q[(i + U) % n] += p[i] * pExact;\n",
    "        q[(i + U + 1) % n] += p[i] * pOvershoot;\n",
    "        q[(i + U - 1) % n] += p[i] * pUndershoot;\n",
    "    \n",
    "    return q"
   ]
  },
  {
   "cell_type": "code",
   "execution_count": 3,
   "metadata": {},
   "outputs": [
    {
     "name": "stdout",
     "output_type": "stream",
     "text": [
      "[0.05, 0.05, 0.4, 0.1, 0.4]\n"
     ]
    }
   ],
   "source": [
    "print(move(p, 1))"
   ]
  },
  {
   "cell_type": "code",
   "execution_count": 4,
   "metadata": {},
   "outputs": [
    {
     "name": "stdout",
     "output_type": "stream",
     "text": [
      "[0.1999999652607658, 0.20000001326920858, 0.2000000429400579, 0.2000000132692085, 0.1999999652607658]\n"
     ]
    }
   ],
   "source": [
    "for i in range(100):\n",
    "    p = move(p, 1)\n",
    "print(p)"
   ]
  }
 ],
 "metadata": {
  "kernelspec": {
   "display_name": "Python 3",
   "language": "python",
   "name": "python3"
  },
  "language_info": {
   "codemirror_mode": {
    "name": "ipython",
    "version": 3
   },
   "file_extension": ".py",
   "mimetype": "text/x-python",
   "name": "python",
   "nbconvert_exporter": "python",
   "pygments_lexer": "ipython3",
   "version": "3.7.1"
  }
 },
 "nbformat": 4,
 "nbformat_minor": 2
}
