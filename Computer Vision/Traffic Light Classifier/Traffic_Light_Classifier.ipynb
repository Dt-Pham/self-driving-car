{
 "cells": [
  {
   "cell_type": "markdown",
   "metadata": {},
   "source": [
    "# Traffic Light Classifier\n",
    "---\n",
    "\n",
    "In this project, you’ll use your knowledge of computer vision techniques to build a classifier for images of traffic lights! You'll be given a dataset of traffic light images in which one of three lights is illuminated: red, yellow, or green.\n",
    "\n",
    "In this notebook, you'll pre-process these images, extract features that will help us distinguish the different types of images, and use those features to classify the traffic light images into three classes: red, yellow, or green. The tasks will be broken down into a few sections:\n",
    "\n",
    "1. **Loading and visualizing the data**. \n",
    "      The first step in any classification task is to be familiar with your data; you'll need to load in the images of traffic lights and visualize them!\n",
    "\n",
    "2. **Pre-processing**. \n",
    "    The input images and output labels need to be standardized. This way, you can analyze all the input images using the same classification pipeline, and you know what output to expect when you eventually classify a *new* image.\n",
    "    \n",
    "3. **Feature extraction**. \n",
    "    Next, you'll extract some features from each image that will help distinguish and eventually classify these images.\n",
    "   \n",
    "4. **Classification and visualizing error**. \n",
    "    Finally, you'll write one function that uses your features to classify *any* traffic light image. This function will take in an image and output a label. You'll also be given code to determine the accuracy of your classification model.    \n",
    "    \n",
    "5. **Evaluate your model**.\n",
    "    To pass this project, your classifier must be >90% accurate and never classify any red lights as green; it's likely that you'll need to improve the accuracy of your classifier by changing existing features or adding new features. I'd also encourage you to try to get as close to 100% accuracy as possible!\n",
    "    \n",
    "Here are some sample images from the dataset (from left to right: red, green, and yellow traffic lights):\n",
    "<img src=\"images/all_lights.png\" width=\"50%\" height=\"50%\">\n"
   ]
  },
  {
   "cell_type": "markdown",
   "metadata": {},
   "source": [
    "---\n",
    "### *Here's what you need to know to complete the project:*\n",
    "\n",
    "Some template code has already been provided for you, but you'll need to implement additional code steps to successfully complete this project. Any code that is required to pass this project is marked with **'(IMPLEMENTATION)'** in the header. There are also a couple of questions about your thoughts as you work through this project, which are marked with **'(QUESTION)'** in the header. Make sure to answer all questions and to check your work against the [project rubric](https://review.udacity.com/#!/rubrics/1213/view) to make sure you complete the necessary classification steps!\n",
    "\n",
    "Your project submission will be evaluated based on the code implementations you provide, and on two main classification criteria.\n",
    "Your complete traffic light classifier should have:\n",
    "1. **Greater than 90% accuracy**\n",
    "2. ***Never* classify red lights as green**\n"
   ]
  },
  {
   "cell_type": "markdown",
   "metadata": {},
   "source": [
    "# 1. Loading and Visualizing the Traffic Light Dataset\n",
    "\n",
    "This traffic light dataset consists of 1484 number of color images in 3 categories - red, yellow, and green. As with most human-sourced data, the data is not evenly distributed among the types. There are:\n",
    "* 904 red traffic light images\n",
    "* 536 green traffic light images\n",
    "* 44 yellow traffic light images\n",
    "\n",
    "*Note: All images come from this [MIT self-driving car course](https://selfdrivingcars.mit.edu/) and are licensed under a [Creative Commons Attribution-ShareAlike 4.0 International License](https://creativecommons.org/licenses/by-sa/4.0/).*"
   ]
  },
  {
   "cell_type": "markdown",
   "metadata": {},
   "source": [
    "### Import resources\n",
    "\n",
    "Before you get started on the project code, import the libraries and resources that you'll need."
   ]
  },
  {
   "cell_type": "code",
   "execution_count": 63,
   "metadata": {},
   "outputs": [
    {
     "name": "stdout",
     "output_type": "stream",
     "text": [
      "1.14.0\n"
     ]
    }
   ],
   "source": [
    "import cv2 # computer vision library\n",
    "import helpers # helper functions\n",
    "\n",
    "import random\n",
    "import numpy as np\n",
    "import matplotlib.pyplot as plt\n",
    "import matplotlib.image as mpimg # for loading in images\n",
    "import tensorflow as tf\n",
    "from tensorflow import keras\n",
    "\n",
    "%matplotlib inline\n",
    "tf.set_random_seed(1) \n",
    "print(tf.__version__)"
   ]
  },
  {
   "cell_type": "markdown",
   "metadata": {},
   "source": [
    "## Training and Testing Data\n",
    "\n",
    "All 1484 of the traffic light images are separated into training and testing datasets. \n",
    "\n",
    "* 80% of these images are training images, for you to use as you create a classifier.\n",
    "* 20% are test images, which will be used to test the accuracy of your classifier.\n",
    "* All images are pictures of 3-light traffic lights with one light illuminated.\n",
    "\n",
    "## Define the image directories\n",
    "\n",
    "First, we set some variables to keep track of some where our images are stored:\n",
    "\n",
    "    IMAGE_DIR_TRAINING: the directory where our training image data is stored\n",
    "    IMAGE_DIR_TEST: the directory where our test image data is stored"
   ]
  },
  {
   "cell_type": "code",
   "execution_count": 3,
   "metadata": {},
   "outputs": [],
   "source": [
    "# Image data directories\n",
    "IMAGE_DIR_TRAINING = \"traffic_light_images/training/\"\n",
    "IMAGE_DIR_TEST = \"traffic_light_images/test/\""
   ]
  },
  {
   "cell_type": "markdown",
   "metadata": {},
   "source": [
    "## Load the datasets\n",
    "\n",
    "These first few lines of code will load the training traffic light images and store all of them in a variable, `IMAGE_LIST`. This list contains the images and their associated label (\"red\", \"yellow\", \"green\"). \n",
    "\n",
    "You are encouraged to take a look at the `load_dataset` function in the helpers.py file. This will give you a good idea about how lots of image files can be read in from a directory using the [glob library](https://pymotw.com/2/glob/). The `load_dataset` function takes in the name of an image directory and returns a list of images and their associated labels. \n",
    "\n",
    "For example, the first image-label pair in `IMAGE_LIST` can be accessed by index: \n",
    "``` IMAGE_LIST[0][:]```.\n"
   ]
  },
  {
   "cell_type": "code",
   "execution_count": 65,
   "metadata": {},
   "outputs": [],
   "source": [
    "# Using the load_dataset function in helpers.py\n",
    "# Load training data\n",
    "IMAGE_LIST = helpers.load_dataset(IMAGE_DIR_TRAINING)"
   ]
  },
  {
   "cell_type": "markdown",
   "metadata": {},
   "source": [
    "## Visualize the Data\n",
    "\n",
    "The first steps in analyzing any dataset are to 1. load the data and 2. look at the data. Seeing what it looks like will give you an idea of what to look for in the images, what kind of noise or inconsistencies you have to deal with, and so on. This will help you understand the image dataset, and **understanding a dataset is part of making predictions about the data**."
   ]
  },
  {
   "cell_type": "markdown",
   "metadata": {},
   "source": [
    "---\n",
    "### Visualize the input images\n",
    "\n",
    "Visualize and explore the image data! Write code to display an image in `IMAGE_LIST`:\n",
    "* Display the image\n",
    "* Print out the shape of the image \n",
    "* Print out its corresponding label\n",
    "\n",
    "See if you can display at least one of each type of traffic light image – red, green, and yellow — and look at their similarities and differences."
   ]
  },
  {
   "cell_type": "code",
   "execution_count": 155,
   "metadata": {},
   "outputs": [
    {
     "data": {
      "text/plain": [
       "<matplotlib.image.AxesImage at 0x13dc0e860>"
      ]
     },
     "execution_count": 155,
     "metadata": {},
     "output_type": "execute_result"
    },
    {
     "data": {
      "image/png": "[encoded data removed]",
      "text/plain": [
       "<Figure size 432x288 with 1 Axes>"
      ]
     },
     "metadata": {
      "needs_background": "light"
     },
     "output_type": "display_data"
    }
   ],
   "source": [
    "## TODO: Write code to display an image in IMAGE_LIST (try finding a yellow traffic light!)\n",
    "## TODO: Print out 1. The shape of the image and 2. The image's label\n",
    "\n",
    "# The first image in IMAGE_LIST is displayed below (without information about shape or label)\n",
    "selected_image = IMAGE_LIST[800][0]\n",
    "plt.imshow(selected_image)"
   ]
  },
  {
   "cell_type": "markdown",
   "metadata": {},
   "source": [
    "# 2. Pre-process the Data\n",
    "\n",
    "After loading in each image, you have to standardize the input and output!\n",
    "\n",
    "### Input\n",
    "\n",
    "This means that every input image should be in the same format, of the same size, and so on. We'll be creating features by performing the same analysis on every picture, and for a classification task like this, it's important that **similar images create similar features**! \n",
    "\n",
    "### Output\n",
    "\n",
    "We also need the output to be a label that is easy to read and easy to compare with other labels. It is good practice to convert categorical data like \"red\" and \"green\" to numerical data.\n",
    "\n",
    "A very common classification output is a 1D list that is the length of the number of classes - three in the case of red, yellow, and green lights - with the values 0 or 1 indicating which class a certain image is. For example, since we have three classes (red, yellow, and green), we can make a list with the order: [red value, yellow value, green value]. In general, order does not matter, we choose the order [red value, yellow value, green value] in this case to reflect the position of each light in descending vertical order.\n",
    "\n",
    "A red light should have the  label: [1, 0, 0]. Yellow should be: [0, 1, 0]. Green should be: [0, 0, 1]. These labels are called **one-hot encoded labels**.\n",
    "\n",
    "*(Note: one-hot encoding will be especially important when you work with [machine learning algorithms](https://machinelearningmastery.com/how-to-one-hot-encode-sequence-data-in-python/)).*\n",
    "\n",
    "<img src=\"images/processing_steps.png\" width=\"80%\" height=\"80%\">\n"
   ]
  },
  {
   "cell_type": "markdown",
   "metadata": {},
   "source": [
    "---\n",
    "<a id='task2'></a>\n",
    "### (IMPLEMENTATION): Standardize the input images\n",
    "\n",
    "* Resize each image to the desired input size: 32x32px.\n",
    "* (Optional) You may choose to crop, shift, or rotate the images in this step as well.\n",
    "\n",
    "It's very common to have square input sizes that can be rotated (and remain the same size), and analyzed in smaller, square patches. It's also important to make all your images the same size so that they can be sent through the same pipeline of classification steps!"
   ]
  },
  {
   "cell_type": "code",
   "execution_count": 9,
   "metadata": {},
   "outputs": [],
   "source": [
    "# This function should take in an RGB image and return a new, standardized version\n",
    "def standardize_input(image):\n",
    "    \n",
    "    ## TODO: Resize image and pre-process so that all \"standard\" images are the same size  \n",
    "    standard_im = cv2.resize(np.copy(image), (32, 32))\n",
    "\n",
    "    return standard_im\n",
    "    "
   ]
  },
  {
   "cell_type": "markdown",
   "metadata": {},
   "source": [
    "## Standardize the output\n",
    "\n",
    "With each loaded image, we also specify the expected output. For this, we use **one-hot encoding**.\n",
    "\n",
    "* One-hot encode the labels. To do this, create an array of zeros representing each class of traffic light (red, yellow, green), and set the index of the expected class number to 1. \n",
    "\n",
    "Since we have three classes (red, yellow, and green), we have imposed an order of: [red value, yellow value, green value]. To one-hot encode, say, a yellow light, we would first initialize an array to [0, 0, 0] and change the middle value (the yellow value) to 1: [0, 1, 0].\n"
   ]
  },
  {
   "cell_type": "markdown",
   "metadata": {},
   "source": [
    "---\n",
    "<a id='task3'></a>\n",
    "### (IMPLEMENTATION): Implement one-hot encoding"
   ]
  },
  {
   "cell_type": "code",
   "execution_count": 21,
   "metadata": {},
   "outputs": [],
   "source": [
    "## TODO: One hot encode an image label\n",
    "## Given a label - \"red\", \"green\", or \"yellow\" - return a one-hot encoded label\n",
    "\n",
    "# Examples: \n",
    "# one_hot_encode(\"red\") should return: [1, 0, 0]\n",
    "# one_hot_encode(\"yellow\") should return: [0, 1, 0]\n",
    "# one_hot_encode(\"green\") should return: [0, 0, 1]\n",
    "\n",
    "def one_hot_encode(label):\n",
    "    \n",
    "    ## TODO: Create a one-hot encoded label that works for all classes of traffic lights\n",
    "#     one_hot_encoded = np.array(['red', 'yellow', 'green']) == label\n",
    "#     return one_hot_encoded.astype(int)\n",
    "\n",
    "    if label == 'red':\n",
    "        return [1, 0, 0]\n",
    "    elif label == 'yellow':\n",
    "        return [0, 1, 0]\n",
    "    else:\n",
    "        return [0, 0, 1]\n"
   ]
  },
  {
   "cell_type": "code",
   "execution_count": 22,
   "metadata": {},
   "outputs": [
    {
     "name": "stdout",
     "output_type": "stream",
     "text": [
      "[0, 0, 1]\n"
     ]
    }
   ],
   "source": [
    "print(one_hot_encode('green'))"
   ]
  },
  {
   "cell_type": "markdown",
   "metadata": {},
   "source": [
    "### Testing as you Code\n",
    "\n",
    "After programming a function like this, it's a good idea to test it, and see if it produces the expected output. **In general, it's good practice to test code in small, functional pieces, after you write it**. This way, you can make sure that your code is correct as you continue to build a classifier, and you can identify any errors early on so that they don't compound.\n",
    "\n",
    "All test code can be found in the file `test_functions.py`. You are encouraged to look through that code and add your own testing code if you find it useful!\n",
    "\n",
    "One test function you'll find is: `test_one_hot(self, one_hot_function)` which takes in one argument, a one_hot_encode function, and tests its functionality. If your one_hot_label code does not work as expected, this test will print ot an error message that will tell you a bit about why your code failed. Once your code works, this should print out TEST PASSED."
   ]
  },
  {
   "cell_type": "code",
   "execution_count": 23,
   "metadata": {},
   "outputs": [
    {
     "data": {
      "text/markdown": [
       "**<span style=\"color: green;\">TEST PASSED</span>**"
      ],
      "text/plain": [
       "<IPython.core.display.Markdown object>"
      ]
     },
     "metadata": {},
     "output_type": "display_data"
    }
   ],
   "source": [
    "# Importing the tests\n",
    "import test_functions\n",
    "tests = test_functions.Tests()\n",
    "\n",
    "# Test for one_hot_encode function\n",
    "tests.test_one_hot(one_hot_encode)\n"
   ]
  },
  {
   "cell_type": "markdown",
   "metadata": {},
   "source": [
    "## Construct a `STANDARDIZED_LIST` of input images and output labels.\n",
    "\n",
    "This function takes in a list of image-label pairs and outputs a **standardized** list of resized images and one-hot encoded labels.\n",
    "\n",
    "This uses the functions you defined above to standardize the input and output, so those functions must be complete for this standardization to work!\n"
   ]
  },
  {
   "cell_type": "code",
   "execution_count": 79,
   "metadata": {},
   "outputs": [],
   "source": [
    "def standardize(image_list):\n",
    "    \n",
    "    # Empty image data array\n",
    "    standard_list = []\n",
    "\n",
    "    # Iterate through all the image-label pairs\n",
    "    for item in image_list:\n",
    "        image = item[0]\n",
    "        label = item[1]\n",
    "\n",
    "        # Standardize the image\n",
    "        standardized_im = standardize_input(image)\n",
    "\n",
    "        # One-hot encode the label\n",
    "        one_hot_label = one_hot_encode(label)    \n",
    "\n",
    "        # Append the image, and it's one hot encoded label to the full, processed list of image data \n",
    "        standard_list.append((standardized_im, one_hot_label))\n",
    "        \n",
    "    return standard_list\n",
    "\n",
    "# Standardize all training images\n",
    "STANDARDIZED_LIST = standardize(IMAGE_LIST)"
   ]
  },
  {
   "cell_type": "markdown",
   "metadata": {},
   "source": [
    "## Build a model using keras\n",
    "\n",
    "..."
   ]
  },
  {
   "cell_type": "code",
   "execution_count": 243,
   "metadata": {},
   "outputs": [],
   "source": [
    "import numpy as np\n",
    "from keras import layers\n",
    "from keras.layers import Input, Dense, Activation, ZeroPadding2D, BatchNormalization, Flatten, Conv2D\n",
    "from keras.layers import AveragePooling2D, MaxPooling2D, Dropout, GlobalMaxPooling2D, GlobalAveragePooling2D\n",
    "from keras.models import Model, Sequential\n",
    "from keras.preprocessing import image\n",
    "from keras.utils import layer_utils\n",
    "from keras.utils.data_utils import get_file\n",
    "from keras.applications.imagenet_utils import preprocess_input\n",
    "import pydot\n",
    "from IPython.display import SVG\n",
    "from keras.utils.vis_utils import model_to_dot\n",
    "from keras.utils import plot_model\n",
    "\n",
    "import keras.backend as K\n",
    "K.set_image_data_format('channels_last')\n",
    "import matplotlib.pyplot as plt\n",
    "from matplotlib.pyplot import imshow\n",
    "\n",
    "%matplotlib inline"
   ]
  },
  {
   "cell_type": "code",
   "execution_count": 244,
   "metadata": {},
   "outputs": [
    {
     "name": "stdout",
     "output_type": "stream",
     "text": [
      "number of training examples = 1187\n",
      "X_train shape: (1187, 32, 32, 3)\n",
      "Y_train shape: (1187,)\n"
     ]
    }
   ],
   "source": [
    "X_train = np.array([STANDARDIZED_LIST[i][0] for i in range(len(STANDARDIZED_LIST))]) / 255\n",
    "Y_train = np.array([y[1][0] * 0 + y[1][1] * 1 + y[1][2] * 2 for y in STANDARDIZED_LIST])\n",
    "\n",
    "print (\"number of training examples = \" + str(X_train.shape[0]))\n",
    "print (\"X_train shape: \" + str(X_train.shape))\n",
    "print (\"Y_train shape: \" + str(Y_train.shape))"
   ]
  },
  {
   "cell_type": "code",
   "execution_count": 245,
   "metadata": {},
   "outputs": [],
   "source": [
    "model = keras.Sequential([\n",
    "    keras.layers.Flatten(input_shape=(32, 32, 3)),\n",
    "    keras.layers.Dense(128, activation=tf.nn.relu),\n",
    "    keras.layers.Dense(3, activation=tf.nn.softmax)\n",
    "])"
   ]
  },
  {
   "cell_type": "code",
   "execution_count": 247,
   "metadata": {},
   "outputs": [],
   "source": [
    "model.compile(optimizer='adam',\n",
    "              loss='sparse_categorical_crossentropy',\n",
    "              metrics=['accuracy'])"
   ]
  },
  {
   "cell_type": "code",
   "execution_count": 261,
   "metadata": {},
   "outputs": [
    {
     "name": "stdout",
     "output_type": "stream",
     "text": [
      "Epoch 1/200\n",
      "1187/1187 [==============================] - 0s 77us/sample - loss: 8.8794e-04 - acc: 1.0000\n",
      "Epoch 2/200\n",
      "1187/1187 [==============================] - 0s 76us/sample - loss: 0.0015 - acc: 1.0000\n",
      "Epoch 3/200\n",
      "1187/1187 [==============================] - 0s 75us/sample - loss: 6.4435e-04 - acc: 1.0000\n",
      "Epoch 4/200\n",
      "1187/1187 [==============================] - 0s 73us/sample - loss: 5.4317e-04 - acc: 1.0000\n",
      "Epoch 5/200\n",
      "1187/1187 [==============================] - 0s 75us/sample - loss: 7.2565e-04 - acc: 1.0000\n",
      "Epoch 6/200\n",
      "1187/1187 [==============================] - 0s 73us/sample - loss: 0.0065 - acc: 0.9958\n",
      "Epoch 7/200\n",
      "1187/1187 [==============================] - 0s 73us/sample - loss: 6.5074e-04 - acc: 1.0000\n",
      "Epoch 8/200\n",
      "1187/1187 [==============================] - 0s 73us/sample - loss: 8.8035e-04 - acc: 1.0000\n",
      "Epoch 9/200\n",
      "1187/1187 [==============================] - 0s 73us/sample - loss: 0.0023 - acc: 0.9983\n",
      "Epoch 10/200\n",
      "1187/1187 [==============================] - 0s 73us/sample - loss: 4.5780e-04 - acc: 1.0000\n",
      "Epoch 11/200\n",
      "1187/1187 [==============================] - 0s 78us/sample - loss: 3.9157e-04 - acc: 1.0000\n",
      "Epoch 12/200\n",
      "1187/1187 [==============================] - 0s 75us/sample - loss: 3.8917e-04 - acc: 1.0000\n",
      "Epoch 13/200\n",
      "1187/1187 [==============================] - 0s 75us/sample - loss: 5.2112e-04 - acc: 1.0000\n",
      "Epoch 14/200\n",
      "1187/1187 [==============================] - 0s 74us/sample - loss: 6.6782e-04 - acc: 1.0000\n",
      "Epoch 15/200\n",
      "1187/1187 [==============================] - 0s 74us/sample - loss: 0.0034 - acc: 0.9983\n",
      "Epoch 16/200\n",
      "1187/1187 [==============================] - 0s 75us/sample - loss: 0.0053 - acc: 0.9975\n",
      "Epoch 17/200\n",
      "1187/1187 [==============================] - 0s 74us/sample - loss: 0.0020 - acc: 0.9992\n",
      "Epoch 18/200\n",
      "1187/1187 [==============================] - 0s 74us/sample - loss: 5.0606e-04 - acc: 1.0000\n",
      "Epoch 19/200\n",
      "1187/1187 [==============================] - 0s 73us/sample - loss: 3.8552e-04 - acc: 1.0000\n",
      "Epoch 20/200\n",
      "1187/1187 [==============================] - 0s 74us/sample - loss: 3.3994e-04 - acc: 1.0000\n",
      "Epoch 21/200\n",
      "1187/1187 [==============================] - 0s 74us/sample - loss: 3.3048e-04 - acc: 1.0000\n",
      "Epoch 22/200\n",
      "1187/1187 [==============================] - 0s 75us/sample - loss: 2.7879e-04 - acc: 1.0000\n",
      "Epoch 23/200\n",
      "1187/1187 [==============================] - 0s 74us/sample - loss: 3.0822e-04 - acc: 1.0000\n",
      "Epoch 24/200\n",
      "1187/1187 [==============================] - 0s 76us/sample - loss: 2.9517e-04 - acc: 1.0000\n",
      "Epoch 25/200\n",
      "1187/1187 [==============================] - 0s 78us/sample - loss: 3.2032e-04 - acc: 1.0000\n",
      "Epoch 26/200\n",
      "1187/1187 [==============================] - 0s 78us/sample - loss: 3.5887e-04 - acc: 1.0000\n",
      "Epoch 27/200\n",
      "1187/1187 [==============================] - 0s 77us/sample - loss: 3.3769e-04 - acc: 1.0000\n",
      "Epoch 28/200\n",
      "1187/1187 [==============================] - 0s 79us/sample - loss: 3.9684e-04 - acc: 1.0000\n",
      "Epoch 29/200\n",
      "1187/1187 [==============================] - 0s 77us/sample - loss: 3.2097e-04 - acc: 1.0000\n",
      "Epoch 30/200\n",
      "1187/1187 [==============================] - 0s 73us/sample - loss: 2.5699e-04 - acc: 1.0000\n",
      "Epoch 31/200\n",
      "1187/1187 [==============================] - 0s 74us/sample - loss: 3.2924e-04 - acc: 1.0000\n",
      "Epoch 32/200\n",
      "1187/1187 [==============================] - 0s 75us/sample - loss: 3.9664e-04 - acc: 1.0000\n",
      "Epoch 33/200\n",
      "1187/1187 [==============================] - 0s 75us/sample - loss: 0.0033 - acc: 0.9992\n",
      "Epoch 34/200\n",
      "1187/1187 [==============================] - 0s 72us/sample - loss: 0.0106 - acc: 0.9941\n",
      "Epoch 35/200\n",
      "1187/1187 [==============================] - 0s 72us/sample - loss: 0.0015 - acc: 0.9992\n",
      "Epoch 36/200\n",
      "1187/1187 [==============================] - 0s 72us/sample - loss: 2.9329e-04 - acc: 1.0000\n",
      "Epoch 37/200\n",
      "1187/1187 [==============================] - 0s 72us/sample - loss: 2.3899e-04 - acc: 1.0000\n",
      "Epoch 38/200\n",
      "1187/1187 [==============================] - 0s 74us/sample - loss: 2.5014e-04 - acc: 1.0000\n",
      "Epoch 39/200\n",
      "1187/1187 [==============================] - 0s 73us/sample - loss: 2.2479e-04 - acc: 1.0000\n",
      "Epoch 40/200\n",
      "1187/1187 [==============================] - 0s 80us/sample - loss: 2.5471e-04 - acc: 1.0000\n",
      "Epoch 41/200\n",
      "1187/1187 [==============================] - 0s 78us/sample - loss: 2.8773e-04 - acc: 1.0000\n",
      "Epoch 42/200\n",
      "1187/1187 [==============================] - 0s 73us/sample - loss: 2.2359e-04 - acc: 1.0000\n",
      "Epoch 43/200\n",
      "1187/1187 [==============================] - 0s 73us/sample - loss: 2.1916e-04 - acc: 1.0000\n",
      "Epoch 44/200\n",
      "1187/1187 [==============================] - 0s 74us/sample - loss: 1.9655e-04 - acc: 1.0000\n",
      "Epoch 45/200\n",
      "1187/1187 [==============================] - 0s 80us/sample - loss: 2.1823e-04 - acc: 1.0000\n",
      "Epoch 46/200\n",
      "1187/1187 [==============================] - 0s 79us/sample - loss: 2.5183e-04 - acc: 1.0000\n",
      "Epoch 47/200\n",
      "1187/1187 [==============================] - 0s 81us/sample - loss: 2.3914e-04 - acc: 1.0000\n",
      "Epoch 48/200\n",
      "1187/1187 [==============================] - 0s 81us/sample - loss: 2.2319e-04 - acc: 1.0000\n",
      "Epoch 49/200\n",
      "1187/1187 [==============================] - 0s 81us/sample - loss: 0.0016 - acc: 0.9992\n",
      "Epoch 50/200\n",
      "1187/1187 [==============================] - 0s 82us/sample - loss: 0.2320 - acc: 0.9537\n",
      "Epoch 51/200\n",
      "1187/1187 [==============================] - 0s 76us/sample - loss: 0.0029 - acc: 1.0000\n",
      "Epoch 52/200\n",
      "1187/1187 [==============================] - 0s 74us/sample - loss: 0.0016 - acc: 1.0000\n",
      "Epoch 53/200\n",
      "1187/1187 [==============================] - 0s 74us/sample - loss: 0.0016 - acc: 1.0000\n",
      "Epoch 54/200\n",
      "1187/1187 [==============================] - 0s 73us/sample - loss: 0.0016 - acc: 1.0000\n",
      "Epoch 55/200\n",
      "1187/1187 [==============================] - 0s 74us/sample - loss: 0.0016 - acc: 1.0000\n",
      "Epoch 56/200\n",
      "1187/1187 [==============================] - 0s 75us/sample - loss: 0.0017 - acc: 1.0000\n",
      "Epoch 57/200\n",
      "1187/1187 [==============================] - 0s 76us/sample - loss: 0.0012 - acc: 1.0000\n",
      "Epoch 58/200\n",
      "1187/1187 [==============================] - 0s 79us/sample - loss: 0.0014 - acc: 1.0000\n",
      "Epoch 59/200\n",
      "1187/1187 [==============================] - 0s 81us/sample - loss: 0.0021 - acc: 1.0000\n",
      "Epoch 60/200\n",
      "1187/1187 [==============================] - 0s 80us/sample - loss: 0.0013 - acc: 1.0000\n",
      "Epoch 61/200\n",
      "1187/1187 [==============================] - 0s 73us/sample - loss: 0.0011 - acc: 1.0000\n",
      "Epoch 62/200\n",
      "1187/1187 [==============================] - 0s 72us/sample - loss: 0.0010 - acc: 1.0000\n",
      "Epoch 63/200\n",
      "1187/1187 [==============================] - 0s 72us/sample - loss: 0.0011 - acc: 1.0000\n",
      "Epoch 64/200\n",
      "1187/1187 [==============================] - 0s 72us/sample - loss: 9.7310e-04 - acc: 1.0000\n",
      "Epoch 65/200\n",
      "1187/1187 [==============================] - 0s 78us/sample - loss: 0.0011 - acc: 1.0000\n",
      "Epoch 66/200\n",
      "1187/1187 [==============================] - 0s 81us/sample - loss: 0.0013 - acc: 1.0000\n",
      "Epoch 67/200\n",
      "1187/1187 [==============================] - 0s 82us/sample - loss: 0.0031 - acc: 0.9992\n",
      "Epoch 68/200\n",
      "1187/1187 [==============================] - 0s 75us/sample - loss: 0.0012 - acc: 1.0000\n",
      "Epoch 69/200\n",
      "1187/1187 [==============================] - 0s 78us/sample - loss: 0.0013 - acc: 1.0000\n",
      "Epoch 70/200\n",
      "1187/1187 [==============================] - 0s 81us/sample - loss: 0.0012 - acc: 1.0000\n",
      "Epoch 71/200\n",
      "1187/1187 [==============================] - 0s 78us/sample - loss: 7.7851e-04 - acc: 1.0000\n",
      "Epoch 72/200\n",
      "1187/1187 [==============================] - 0s 81us/sample - loss: 7.4855e-04 - acc: 1.0000\n",
      "Epoch 73/200\n",
      "1187/1187 [==============================] - 0s 80us/sample - loss: 6.7296e-04 - acc: 1.0000\n",
      "Epoch 74/200\n",
      "1187/1187 [==============================] - 0s 79us/sample - loss: 6.4356e-04 - acc: 1.0000\n",
      "Epoch 75/200\n",
      "1187/1187 [==============================] - 0s 80us/sample - loss: 7.8186e-04 - acc: 1.0000\n",
      "Epoch 76/200\n",
      "1187/1187 [==============================] - 0s 80us/sample - loss: 0.0011 - acc: 1.0000\n",
      "Epoch 77/200\n",
      "1187/1187 [==============================] - 0s 79us/sample - loss: 6.7675e-04 - acc: 1.0000\n",
      "Epoch 78/200\n",
      "1187/1187 [==============================] - 0s 75us/sample - loss: 0.0010 - acc: 1.0000\n",
      "Epoch 79/200\n"
     ]
    },
    {
     "name": "stdout",
     "output_type": "stream",
     "text": [
      "1187/1187 [==============================] - 0s 78us/sample - loss: 8.2465e-04 - acc: 1.0000\n",
      "Epoch 80/200\n",
      "1187/1187 [==============================] - 0s 84us/sample - loss: 6.4918e-04 - acc: 1.0000\n",
      "Epoch 81/200\n",
      "1187/1187 [==============================] - 0s 84us/sample - loss: 7.8689e-04 - acc: 1.0000\n",
      "Epoch 82/200\n",
      "1187/1187 [==============================] - 0s 84us/sample - loss: 6.1782e-04 - acc: 1.0000\n",
      "Epoch 83/200\n",
      "1187/1187 [==============================] - 0s 85us/sample - loss: 6.7212e-04 - acc: 1.0000\n",
      "Epoch 84/200\n",
      "1187/1187 [==============================] - 0s 74us/sample - loss: 6.0643e-04 - acc: 1.0000\n",
      "Epoch 85/200\n",
      "1187/1187 [==============================] - 0s 72us/sample - loss: 0.0012 - acc: 1.0000\n",
      "Epoch 86/200\n",
      "1187/1187 [==============================] - 0s 73us/sample - loss: 0.0011 - acc: 1.0000\n",
      "Epoch 87/200\n",
      "1187/1187 [==============================] - 0s 72us/sample - loss: 9.4989e-04 - acc: 1.0000\n",
      "Epoch 88/200\n",
      "1187/1187 [==============================] - 0s 75us/sample - loss: 5.3700e-04 - acc: 1.0000\n",
      "Epoch 89/200\n",
      "1187/1187 [==============================] - 0s 82us/sample - loss: 6.9275e-04 - acc: 1.0000\n",
      "Epoch 90/200\n",
      "1187/1187 [==============================] - 0s 82us/sample - loss: 4.9261e-04 - acc: 1.0000\n",
      "Epoch 91/200\n",
      "1187/1187 [==============================] - 0s 81us/sample - loss: 4.3755e-04 - acc: 1.0000\n",
      "Epoch 92/200\n",
      "1187/1187 [==============================] - 0s 74us/sample - loss: 4.1483e-04 - acc: 1.0000\n",
      "Epoch 93/200\n",
      "1187/1187 [==============================] - 0s 71us/sample - loss: 0.0012 - acc: 1.0000\n",
      "Epoch 94/200\n",
      "1187/1187 [==============================] - 0s 72us/sample - loss: 0.0018 - acc: 1.0000\n",
      "Epoch 95/200\n",
      "1187/1187 [==============================] - 0s 74us/sample - loss: 0.0793 - acc: 0.9789\n",
      "Epoch 96/200\n",
      "1187/1187 [==============================] - 0s 77us/sample - loss: 0.3147 - acc: 0.9511\n",
      "Epoch 97/200\n",
      "1187/1187 [==============================] - 0s 73us/sample - loss: 0.0082 - acc: 0.9975\n",
      "Epoch 98/200\n",
      "1187/1187 [==============================] - 0s 73us/sample - loss: 0.0041 - acc: 1.0000\n",
      "Epoch 99/200\n",
      "1187/1187 [==============================] - 0s 76us/sample - loss: 0.0023 - acc: 1.0000\n",
      "Epoch 100/200\n",
      "1187/1187 [==============================] - 0s 74us/sample - loss: 0.0016 - acc: 1.0000\n",
      "Epoch 101/200\n",
      "1187/1187 [==============================] - 0s 79us/sample - loss: 0.0015 - acc: 1.0000\n",
      "Epoch 102/200\n",
      "1187/1187 [==============================] - 0s 83us/sample - loss: 0.0013 - acc: 1.0000\n",
      "Epoch 103/200\n",
      "1187/1187 [==============================] - 0s 84us/sample - loss: 0.0012 - acc: 1.0000\n",
      "Epoch 104/200\n",
      "1187/1187 [==============================] - 0s 74us/sample - loss: 0.0011 - acc: 1.0000\n",
      "Epoch 105/200\n",
      "1187/1187 [==============================] - 0s 71us/sample - loss: 0.0016 - acc: 1.0000\n",
      "Epoch 106/200\n",
      "1187/1187 [==============================] - 0s 72us/sample - loss: 0.0012 - acc: 1.0000\n",
      "Epoch 107/200\n",
      "1187/1187 [==============================] - 0s 71us/sample - loss: 0.0022 - acc: 1.0000\n",
      "Epoch 108/200\n",
      "1187/1187 [==============================] - 0s 71us/sample - loss: 0.0011 - acc: 1.0000\n",
      "Epoch 109/200\n",
      "1187/1187 [==============================] - 0s 71us/sample - loss: 0.0010 - acc: 1.0000\n",
      "Epoch 110/200\n",
      "1187/1187 [==============================] - 0s 74us/sample - loss: 0.0010 - acc: 1.0000\n",
      "Epoch 111/200\n",
      "1187/1187 [==============================] - 0s 75us/sample - loss: 0.0011 - acc: 1.0000\n",
      "Epoch 112/200\n",
      "1187/1187 [==============================] - 0s 74us/sample - loss: 8.8323e-04 - acc: 1.0000\n",
      "Epoch 113/200\n",
      "1187/1187 [==============================] - 0s 72us/sample - loss: 8.1898e-04 - acc: 1.0000\n",
      "Epoch 114/200\n",
      "1187/1187 [==============================] - 0s 72us/sample - loss: 7.9015e-04 - acc: 1.0000\n",
      "Epoch 115/200\n",
      "1187/1187 [==============================] - 0s 77us/sample - loss: 8.0948e-04 - acc: 1.0000\n",
      "Epoch 116/200\n",
      "1187/1187 [==============================] - 0s 72us/sample - loss: 8.2243e-04 - acc: 1.0000\n",
      "Epoch 117/200\n",
      "1187/1187 [==============================] - 0s 72us/sample - loss: 0.0022 - acc: 0.9992\n",
      "Epoch 118/200\n",
      "1187/1187 [==============================] - 0s 71us/sample - loss: 0.0011 - acc: 1.0000\n",
      "Epoch 119/200\n",
      "1187/1187 [==============================] - 0s 83us/sample - loss: 7.1560e-04 - acc: 1.0000\n",
      "Epoch 120/200\n",
      "1187/1187 [==============================] - 0s 73us/sample - loss: 7.1206e-04 - acc: 1.0000\n",
      "Epoch 121/200\n",
      "1187/1187 [==============================] - 0s 72us/sample - loss: 6.8615e-04 - acc: 1.0000\n",
      "Epoch 122/200\n",
      "1187/1187 [==============================] - 0s 76us/sample - loss: 6.5388e-04 - acc: 1.0000\n",
      "Epoch 123/200\n",
      "1187/1187 [==============================] - 0s 73us/sample - loss: 0.0012 - acc: 1.0000\n",
      "Epoch 124/200\n",
      "1187/1187 [==============================] - 0s 73us/sample - loss: 0.0370 - acc: 0.9857\n",
      "Epoch 125/200\n",
      "1187/1187 [==============================] - 0s 73us/sample - loss: 0.0089 - acc: 0.9966\n",
      "Epoch 126/200\n",
      "1187/1187 [==============================] - 0s 73us/sample - loss: 9.9984e-04 - acc: 1.0000\n",
      "Epoch 127/200\n",
      "1187/1187 [==============================] - 0s 73us/sample - loss: 6.3664e-04 - acc: 1.0000\n",
      "Epoch 128/200\n",
      "1187/1187 [==============================] - 0s 74us/sample - loss: 0.0011 - acc: 1.0000\n",
      "Epoch 129/200\n",
      "1187/1187 [==============================] - 0s 76us/sample - loss: 6.3425e-04 - acc: 1.0000\n",
      "Epoch 130/200\n",
      "1187/1187 [==============================] - 0s 75us/sample - loss: 6.6060e-04 - acc: 1.0000\n",
      "Epoch 131/200\n",
      "1187/1187 [==============================] - 0s 75us/sample - loss: 5.6371e-04 - acc: 1.0000\n",
      "Epoch 132/200\n",
      "1187/1187 [==============================] - 0s 77us/sample - loss: 5.7483e-04 - acc: 1.0000\n",
      "Epoch 133/200\n",
      "1187/1187 [==============================] - 0s 74us/sample - loss: 5.5265e-04 - acc: 1.0000\n",
      "Epoch 134/200\n",
      "1187/1187 [==============================] - 0s 73us/sample - loss: 6.5005e-04 - acc: 1.0000\n",
      "Epoch 135/200\n",
      "1187/1187 [==============================] - 0s 74us/sample - loss: 5.1123e-04 - acc: 1.0000\n",
      "Epoch 136/200\n",
      "1187/1187 [==============================] - 0s 73us/sample - loss: 5.3809e-04 - acc: 1.0000\n",
      "Epoch 137/200\n",
      "1187/1187 [==============================] - 0s 73us/sample - loss: 5.2033e-04 - acc: 1.0000\n",
      "Epoch 138/200\n",
      "1187/1187 [==============================] - 0s 75us/sample - loss: 4.9088e-04 - acc: 1.0000\n",
      "Epoch 139/200\n",
      "1187/1187 [==============================] - 0s 77us/sample - loss: 6.0235e-04 - acc: 1.0000\n",
      "Epoch 140/200\n",
      "1187/1187 [==============================] - 0s 75us/sample - loss: 4.8879e-04 - acc: 1.0000\n",
      "Epoch 141/200\n",
      "1187/1187 [==============================] - 0s 73us/sample - loss: 5.2020e-04 - acc: 1.0000\n",
      "Epoch 142/200\n",
      "1187/1187 [==============================] - 0s 76us/sample - loss: 4.3317e-04 - acc: 1.0000\n",
      "Epoch 143/200\n",
      "1187/1187 [==============================] - 0s 73us/sample - loss: 5.0178e-04 - acc: 1.0000\n",
      "Epoch 144/200\n",
      "1187/1187 [==============================] - 0s 71us/sample - loss: 4.3291e-04 - acc: 1.0000\n",
      "Epoch 145/200\n",
      "1187/1187 [==============================] - 0s 72us/sample - loss: 4.5729e-04 - acc: 1.0000\n",
      "Epoch 146/200\n",
      "1187/1187 [==============================] - 0s 76us/sample - loss: 0.0011 - acc: 1.0000\n",
      "Epoch 147/200\n",
      "1187/1187 [==============================] - 0s 72us/sample - loss: 8.4894e-04 - acc: 1.0000\n",
      "Epoch 148/200\n",
      "1187/1187 [==============================] - 0s 72us/sample - loss: 7.2833e-04 - acc: 1.0000\n",
      "Epoch 149/200\n",
      "1187/1187 [==============================] - 0s 72us/sample - loss: 7.0640e-04 - acc: 1.0000\n",
      "Epoch 150/200\n",
      "1187/1187 [==============================] - 0s 75us/sample - loss: 0.0017 - acc: 1.0000\n",
      "Epoch 151/200\n",
      "1187/1187 [==============================] - 0s 71us/sample - loss: 8.7380e-04 - acc: 1.0000\n",
      "Epoch 152/200\n",
      "1187/1187 [==============================] - 0s 74us/sample - loss: 3.8999e-04 - acc: 1.0000\n",
      "Epoch 153/200\n",
      "1187/1187 [==============================] - 0s 74us/sample - loss: 3.7200e-04 - acc: 1.0000\n",
      "Epoch 154/200\n",
      "1187/1187 [==============================] - 0s 76us/sample - loss: 3.5984e-04 - acc: 1.0000\n",
      "Epoch 155/200\n",
      "1187/1187 [==============================] - 0s 72us/sample - loss: 3.9717e-04 - acc: 1.0000\n",
      "Epoch 156/200\n",
      "1187/1187 [==============================] - 0s 71us/sample - loss: 3.6467e-04 - acc: 1.0000\n"
     ]
    },
    {
     "name": "stdout",
     "output_type": "stream",
     "text": [
      "Epoch 157/200\n",
      "1187/1187 [==============================] - 0s 73us/sample - loss: 4.8059e-04 - acc: 1.0000\n",
      "Epoch 158/200\n",
      "1187/1187 [==============================] - 0s 72us/sample - loss: 4.3382e-04 - acc: 1.0000\n",
      "Epoch 159/200\n",
      "1187/1187 [==============================] - 0s 72us/sample - loss: 3.8787e-04 - acc: 1.0000\n",
      "Epoch 160/200\n",
      "1187/1187 [==============================] - 0s 71us/sample - loss: 3.1760e-04 - acc: 1.0000\n",
      "Epoch 161/200\n",
      "1187/1187 [==============================] - 0s 73us/sample - loss: 3.3804e-04 - acc: 1.0000\n",
      "Epoch 162/200\n",
      "1187/1187 [==============================] - 0s 72us/sample - loss: 3.0635e-04 - acc: 1.0000\n",
      "Epoch 163/200\n",
      "1187/1187 [==============================] - 0s 72us/sample - loss: 3.0223e-04 - acc: 1.0000\n",
      "Epoch 164/200\n",
      "1187/1187 [==============================] - 0s 74us/sample - loss: 4.3480e-04 - acc: 1.0000\n",
      "Epoch 165/200\n",
      "1187/1187 [==============================] - 0s 72us/sample - loss: 5.3915e-04 - acc: 1.0000\n",
      "Epoch 166/200\n",
      "1187/1187 [==============================] - 0s 71us/sample - loss: 5.1255e-04 - acc: 1.0000\n",
      "Epoch 167/200\n",
      "1187/1187 [==============================] - 0s 72us/sample - loss: 7.2545e-04 - acc: 1.0000\n",
      "Epoch 168/200\n",
      "1187/1187 [==============================] - 0s 72us/sample - loss: 0.0013 - acc: 1.0000\n",
      "Epoch 169/200\n",
      "1187/1187 [==============================] - 0s 76us/sample - loss: 4.1972e-04 - acc: 1.0000\n",
      "Epoch 170/200\n",
      "1187/1187 [==============================] - 0s 72us/sample - loss: 4.6641e-04 - acc: 1.0000\n",
      "Epoch 171/200\n",
      "1187/1187 [==============================] - 0s 71us/sample - loss: 2.7330e-04 - acc: 1.0000\n",
      "Epoch 172/200\n",
      "1187/1187 [==============================] - 0s 72us/sample - loss: 2.5994e-04 - acc: 1.0000\n",
      "Epoch 173/200\n",
      "1187/1187 [==============================] - 0s 72us/sample - loss: 2.5904e-04 - acc: 1.0000\n",
      "Epoch 174/200\n",
      "1187/1187 [==============================] - 0s 74us/sample - loss: 2.8500e-04 - acc: 1.0000\n",
      "Epoch 175/200\n",
      "1187/1187 [==============================] - 0s 78us/sample - loss: 2.8459e-04 - acc: 1.0000\n",
      "Epoch 176/200\n",
      "1187/1187 [==============================] - 0s 77us/sample - loss: 2.8607e-04 - acc: 1.0000\n",
      "Epoch 177/200\n",
      "1187/1187 [==============================] - 0s 75us/sample - loss: 2.6242e-04 - acc: 1.0000\n",
      "Epoch 178/200\n",
      "1187/1187 [==============================] - 0s 78us/sample - loss: 2.7430e-04 - acc: 1.0000\n",
      "Epoch 179/200\n",
      "1187/1187 [==============================] - 0s 74us/sample - loss: 5.7797e-04 - acc: 1.0000\n",
      "Epoch 180/200\n",
      "1187/1187 [==============================] - 0s 74us/sample - loss: 5.7658e-04 - acc: 1.0000\n",
      "Epoch 181/200\n",
      "1187/1187 [==============================] - 0s 74us/sample - loss: 2.0441e-04 - acc: 1.0000\n",
      "Epoch 182/200\n",
      "1187/1187 [==============================] - 0s 76us/sample - loss: 2.3567e-04 - acc: 1.0000\n",
      "Epoch 183/200\n",
      "1187/1187 [==============================] - 0s 73us/sample - loss: 4.2593e-04 - acc: 1.0000\n",
      "Epoch 184/200\n",
      "1187/1187 [==============================] - 0s 73us/sample - loss: 1.9416e-04 - acc: 1.0000\n",
      "Epoch 185/200\n",
      "1187/1187 [==============================] - 0s 73us/sample - loss: 2.9110e-04 - acc: 1.0000\n",
      "Epoch 186/200\n",
      "1187/1187 [==============================] - 0s 73us/sample - loss: 2.6676e-04 - acc: 1.0000\n",
      "Epoch 187/200\n",
      "1187/1187 [==============================] - 0s 76us/sample - loss: 2.2953e-04 - acc: 1.0000\n",
      "Epoch 188/200\n",
      "1187/1187 [==============================] - 0s 75us/sample - loss: 2.1991e-04 - acc: 1.0000\n",
      "Epoch 189/200\n",
      "1187/1187 [==============================] - 0s 74us/sample - loss: 1.9337e-04 - acc: 1.0000\n",
      "Epoch 190/200\n",
      "1187/1187 [==============================] - 0s 73us/sample - loss: 1.9943e-04 - acc: 1.0000\n",
      "Epoch 191/200\n",
      "1187/1187 [==============================] - 0s 73us/sample - loss: 0.0011 - acc: 1.0000\n",
      "Epoch 192/200\n",
      "1187/1187 [==============================] - 0s 73us/sample - loss: 0.0065 - acc: 0.9975\n",
      "Epoch 193/200\n",
      "1187/1187 [==============================] - 0s 73us/sample - loss: 7.5993e-04 - acc: 1.0000\n",
      "Epoch 194/200\n",
      "1187/1187 [==============================] - 0s 79us/sample - loss: 1.8628e-04 - acc: 1.0000\n",
      "Epoch 195/200\n",
      "1187/1187 [==============================] - 0s 74us/sample - loss: 1.4828e-04 - acc: 1.0000\n",
      "Epoch 196/200\n",
      "1187/1187 [==============================] - 0s 73us/sample - loss: 2.4791e-04 - acc: 1.0000\n",
      "Epoch 197/200\n",
      "1187/1187 [==============================] - 0s 72us/sample - loss: 2.0854e-04 - acc: 1.0000\n",
      "Epoch 198/200\n",
      "1187/1187 [==============================] - 0s 72us/sample - loss: 1.8837e-04 - acc: 1.0000\n",
      "Epoch 199/200\n",
      "1187/1187 [==============================] - 0s 71us/sample - loss: 1.8009e-04 - acc: 1.0000\n",
      "Epoch 200/200\n",
      "1187/1187 [==============================] - 0s 71us/sample - loss: 1.4211e-04 - acc: 1.0000\n"
     ]
    },
    {
     "data": {
      "text/plain": [
       "<tensorflow.python.keras.callbacks.History at 0x13dabc320>"
      ]
     },
     "execution_count": 261,
     "metadata": {},
     "output_type": "execute_result"
    }
   ],
   "source": [
    "model.fit(X_train, Y_train, epochs=200)"
   ]
  },
  {
   "cell_type": "markdown",
   "metadata": {},
   "source": [
    "## Visualize the standardized data\n",
    "\n",
    "Display a standardized image from STANDARDIZED_LIST and compare it with a non-standardized image from IMAGE_LIST. Note that their sizes and appearance are different!"
   ]
  },
  {
   "cell_type": "code",
   "execution_count": 262,
   "metadata": {},
   "outputs": [
    {
     "name": "stdout",
     "output_type": "stream",
     "text": [
      "[1, 0, 0]\n"
     ]
    },
    {
     "data": {
      "image/png": "[encoded data removed]",
      "text/plain": [
       "<Figure size 432x288 with 1 Axes>"
      ]
     },
     "metadata": {
      "needs_background": "light"
     },
     "output_type": "display_data"
    }
   ],
   "source": [
    "## TODO: Display a standardized image and its label\n",
    "selected_image = STANDARDIZED_TEST_LIST[15]\n",
    "plt.imshow(selected_image[0])\n",
    "print(selected_image[1])"
   ]
  },
  {
   "cell_type": "markdown",
   "metadata": {},
   "source": [
    "# 3. Feature Extraction\n",
    "\n",
    "You'll be using what you now about color spaces, shape analysis, and feature construction to create features that help distinguish and classify the three types of traffic light images.\n",
    "\n",
    "You'll be tasked with creating **one feature** at a minimum (with the option to create more). The required feature is **a brightness feature using HSV color space**:\n",
    "\n",
    "1. A brightness feature.\n",
    "    - Using HSV color space, create a feature that helps you identify the 3 different classes of traffic light.\n",
    "    - You'll be asked some questions about what methods you tried to locate this traffic light, so, as you progress through this notebook, always be thinking about your approach: what works and what doesn't?\n",
    "\n",
    "2. (Optional): Create more features! \n",
    "\n",
    "Any more features that you create are up to you and should improve the accuracy of your traffic light classification algorithm! One thing to note is that, to pass this project you must **never classify a red light as a green light** because this creates a serious safety risk for a self-driving car. To avoid this misclassification, you might consider adding another feature that specifically distinguishes between red and green lights.\n",
    "\n",
    "These features will be combined near the end of his notebook to form a complete classification algorithm."
   ]
  },
  {
   "cell_type": "markdown",
   "metadata": {},
   "source": [
    "## Creating a brightness feature \n",
    "\n",
    "There are a number of ways to create a brightness feature that will help you characterize images of traffic lights, and it will be up to you to decide on the best procedure to complete this step. You should visualize and test your code as you go.\n",
    "\n",
    "Pictured below is a sample pipeline for creating a brightness feature (from left to right: standardized image, HSV color-masked image, cropped image, brightness feature):\n",
    "\n",
    "<img src=\"images/feature_ext_steps.png\" width=\"70%\" height=\"70%\">\n"
   ]
  },
  {
   "cell_type": "markdown",
   "metadata": {},
   "source": [
    "## RGB to HSV conversion\n",
    "\n",
    "Below, a test image is converted from RGB to HSV colorspace and each component is displayed in an image."
   ]
  },
  {
   "cell_type": "code",
   "execution_count": 263,
   "metadata": {},
   "outputs": [
    {
     "name": "stdout",
     "output_type": "stream",
     "text": [
      "Label [red, yellow, green]: [1, 0, 0]\n"
     ]
    },
    {
     "data": {
      "text/plain": [
       "<matplotlib.image.AxesImage at 0x136e9e1d0>"
      ]
     },
     "execution_count": 263,
     "metadata": {},
     "output_type": "execute_result"
    },
    {
     "data": {
      "image/png": "[encoded data removed]",
      "text/plain": [
       "<Figure size 1440x720 with 4 Axes>"
      ]
     },
     "metadata": {
      "needs_background": "light"
     },
     "output_type": "display_data"
    }
   ],
   "source": [
    "# Convert and image to HSV colorspace\n",
    "# Visualize the individual color channels\n",
    "\n",
    "image_num = 0\n",
    "test_im = STANDARDIZED_LIST[image_num][0]\n",
    "test_label = STANDARDIZED_LIST[image_num][1]\n",
    "\n",
    "# Convert to HSV\n",
    "hsv = cv2.cvtColor(test_im, cv2.COLOR_RGB2HSV)\n",
    "\n",
    "# Print image label\n",
    "print('Label [red, yellow, green]: ' + str(test_label))\n",
    "\n",
    "# HSV channels\n",
    "h = hsv[:,:,0]\n",
    "s = hsv[:,:,1]\n",
    "v = hsv[:,:,2]\n",
    "\n",
    "# Plot the original image and the three channels\n",
    "f, (ax1, ax2, ax3, ax4) = plt.subplots(1, 4, figsize=(20,10))\n",
    "ax1.set_title('Standardized image')\n",
    "ax1.imshow(test_im)\n",
    "ax2.set_title('H channel')\n",
    "ax2.imshow(h, cmap='gray')\n",
    "ax3.set_title('S channel')\n",
    "ax3.imshow(s, cmap='gray')\n",
    "ax4.set_title('V channel')\n",
    "ax4.imshow(v, cmap='gray')\n"
   ]
  },
  {
   "cell_type": "markdown",
   "metadata": {},
   "source": [
    "---\n",
    "<a id='task7'></a>\n",
    "### (IMPLEMENTATION): Create a brightness feature that uses HSV color space\n",
    "\n",
    "Write a function that takes in an RGB image and returns a 1D feature vector and/or single value that will help classify an image of a traffic light. The only requirement is that this function should apply an HSV colorspace transformation, the rest is up to you. \n",
    "\n",
    "From this feature, you should be able to estimate an image's label and classify it as either a red, green, or yellow traffic light. You may also define helper functions if they simplify your code."
   ]
  },
  {
   "cell_type": "code",
   "execution_count": 264,
   "metadata": {},
   "outputs": [],
   "source": [
    "## TODO: Create a brightness feature that takes in an RGB image and outputs a feature vector and/or value\n",
    "## This feature should use HSV colorspace values\n",
    "def create_feature(rgb_image):\n",
    "    \n",
    "    ## TODO: Convert image to HSV color space\n",
    "    hsv = cv2.cvtColor(rgb_image, cv2.COLOR_RGB2HSV)\n",
    "    ## TODO: Create and return a feature value and/or vector\n",
    "    v = hsv[:, :, 2]\n",
    "    l = hsv.shape[0] // 3\n",
    "    \n",
    "    x = np.sum(v[0:l, :])\n",
    "    y = np.sum(v[l:-l, :])\n",
    "    z = np.sum(v[0:-l, :])\n",
    "    \n",
    "    feature = [x, y, z]\n",
    "    \n",
    "    return feature\n"
   ]
  },
  {
   "cell_type": "markdown",
   "metadata": {
    "collapsed": true
   },
   "source": [
    "## (Optional) Create more features to help accurately label the traffic light images"
   ]
  },
  {
   "cell_type": "code",
   "execution_count": 265,
   "metadata": {},
   "outputs": [],
   "source": [
    "# (Optional) Add more image analysis and create more features\n"
   ]
  },
  {
   "cell_type": "markdown",
   "metadata": {},
   "source": [
    "## (QUESTION 1): How do the features you made help you distinguish between the 3 classes of traffic light images?"
   ]
  },
  {
   "cell_type": "markdown",
   "metadata": {},
   "source": [
    "**Answer:**\n",
    "Write your answer in this cell."
   ]
  },
  {
   "cell_type": "markdown",
   "metadata": {
    "collapsed": true
   },
   "source": [
    "# 4. Classification and Visualizing Error\n",
    "\n",
    "Using all of your features, write a function that takes in an RGB image and, using your extracted features, outputs whether a light is red, green or yellow as a one-hot encoded label. This classification function should be able to classify any image of a traffic light!\n",
    "\n",
    "You are encouraged to write any helper functions or visualization code that you may need, but for testing the accuracy, make sure that this `estimate_label` function returns a one-hot encoded label."
   ]
  },
  {
   "cell_type": "markdown",
   "metadata": {},
   "source": [
    "---\n",
    "<a id='task8'></a>\n",
    "### (IMPLEMENTATION): Build a complete classifier "
   ]
  },
  {
   "cell_type": "code",
   "execution_count": 266,
   "metadata": {},
   "outputs": [],
   "source": [
    "# This function should take in RGB image input\n",
    "# Analyze that image using your feature creation code and output a one-hot encoded label\n",
    "def estimate_label(rgb_image):\n",
    "    img = cv2.resize(rgb_image, (32, 32))\n",
    "    x = np.array([img])\n",
    "    prediction = model.predict(x)\n",
    "    return list(prediction[0].astype(int))"
   ]
  },
  {
   "cell_type": "markdown",
   "metadata": {},
   "source": [
    "## Testing the classifier\n",
    "\n",
    "Here is where we test your classification algorithm using our test set of data that we set aside at the beginning of the notebook! This project will be complete once you've pogrammed a \"good\" classifier.\n",
    "\n",
    "A \"good\" classifier in this case should meet the following criteria (and once it does, feel free to submit your project):\n",
    "1. Get above 90% classification accuracy.\n",
    "2. Never classify a red light as a green light. \n",
    "\n",
    "### Test dataset\n",
    "\n",
    "Below, we load in the test dataset, standardize it using the `standardize` function you defined above, and then **shuffle** it; this ensures that order will not play a role in testing accuracy.\n"
   ]
  },
  {
   "cell_type": "code",
   "execution_count": 267,
   "metadata": {},
   "outputs": [],
   "source": [
    "# Using the load_dataset function in helpers.py\n",
    "# Load test data\n",
    "TEST_IMAGE_LIST = helpers.load_dataset(IMAGE_DIR_TEST)\n",
    "\n",
    "# Standardize the test data\n",
    "STANDARDIZED_TEST_LIST = standardize(TEST_IMAGE_LIST)\n",
    "\n",
    "# Shuffle the standardized test data\n",
    "random.shuffle(STANDARDIZED_TEST_LIST)"
   ]
  },
  {
   "cell_type": "markdown",
   "metadata": {},
   "source": [
    "## Determine the Accuracy\n",
    "\n",
    "Compare the output of your classification algorithm (a.k.a. your \"model\") with the true labels and determine the accuracy.\n",
    "\n",
    "This code stores all the misclassified images, their predicted labels, and their true labels, in a list called `MISCLASSIFIED`. This code is used for testing and *should not be changed*."
   ]
  },
  {
   "cell_type": "code",
   "execution_count": 268,
   "metadata": {},
   "outputs": [
    {
     "name": "stdout",
     "output_type": "stream",
     "text": [
      "Accuracy: 1.0\n",
      "Number of misclassified images = 0 out of 297\n"
     ]
    }
   ],
   "source": [
    "# Constructs a list of misclassified images given a list of test images and their labels\n",
    "# This will throw an AssertionError if labels are not standardized (one-hot encoded)\n",
    "\n",
    "def get_misclassified_images(test_images):\n",
    "    # Track misclassified images by placing them into a list\n",
    "    misclassified_images_labels = []\n",
    "\n",
    "    # Iterate through all the test images\n",
    "    # Classify each image and compare to the true label\n",
    "    for image in test_images:\n",
    "\n",
    "        # Get true data\n",
    "        im = image[0]\n",
    "        true_label = image[1]\n",
    "        assert(len(true_label) == 3), \"The true_label is not the expected length (3).\"\n",
    "\n",
    "        # Get predicted label from your classifier\n",
    "        predicted_label = estimate_label(im)\n",
    "        assert(len(predicted_label) == 3), \"The predicted_label is not the expected length (3).\"\n",
    "\n",
    "        # Compare true and predicted labels \n",
    "        if(predicted_label != true_label):\n",
    "            # If these labels are not equal, the image has been misclassified\n",
    "            misclassified_images_labels.append((im, predicted_label, true_label))\n",
    "            \n",
    "    # Return the list of misclassified [image, predicted_label, true_label] values\n",
    "    return misclassified_images_labels\n",
    "\n",
    "\n",
    "# Find all misclassified images in a given test set\n",
    "MISCLASSIFIED = get_misclassified_images(STANDARDIZED_TEST_LIST)\n",
    "\n",
    "# Accuracy calculations\n",
    "total = len(STANDARDIZED_TEST_LIST)\n",
    "num_correct = total - len(MISCLASSIFIED)\n",
    "accuracy = num_correct/total\n",
    "\n",
    "print('Accuracy: ' + str(accuracy))\n",
    "print(\"Number of misclassified images = \" + str(len(MISCLASSIFIED)) +' out of '+ str(total))\n"
   ]
  },
  {
   "cell_type": "markdown",
   "metadata": {},
   "source": [
    "---\n",
    "<a id='task9'></a>\n",
    "### Visualize the misclassified images\n",
    "\n",
    "Visualize some of the images you classified wrong (in the `MISCLASSIFIED` list) and note any qualities that make them difficult to classify. This will help you identify any weaknesses in your classification algorithm."
   ]
  },
  {
   "cell_type": "code",
   "execution_count": 259,
   "metadata": {},
   "outputs": [
    {
     "name": "stdout",
     "output_type": "stream",
     "text": [
      "[1, 0, 0]\n"
     ]
    },
    {
     "data": {
      "image/png": "[encoded data removed]",
      "text/plain": [
       "<Figure size 432x288 with 1 Axes>"
      ]
     },
     "metadata": {
      "needs_background": "light"
     },
     "output_type": "display_data"
    }
   ],
   "source": [
    "# Visualize misclassified example(s)\n",
    "## TODO: Display an image in the `MISCLASSIFIED` list \n",
    "## TODO: Print out its predicted label - to see what the image *was* incorrectly classified as\n",
    "mis_image = MISCLASSIFIED[0]\n",
    "plt.imshow(mis_image[0])\n",
    "print(mis_image[1])"
   ]
  },
  {
   "cell_type": "markdown",
   "metadata": {},
   "source": [
    "---\n",
    "<a id='question2'></a>\n",
    "## (Question 2): After visualizing these misclassifications, what weaknesses do you think your classification algorithm has? Please note at least two."
   ]
  },
  {
   "cell_type": "markdown",
   "metadata": {},
   "source": [
    "**Answer:** Write your answer in this cell."
   ]
  },
  {
   "cell_type": "markdown",
   "metadata": {},
   "source": [
    "## Test if you classify any red lights as green\n",
    "\n",
    "**To pass this project, you must not classify any red lights as green!** Classifying red lights as green would cause a car to drive through a red traffic light, so this red-as-green error is very dangerous in the real world. \n",
    "\n",
    "The code below lets you test to see if you've misclassified any red lights as green in the test set. **This test assumes that `MISCLASSIFIED` is a list of tuples with the order: [misclassified_image, predicted_label, true_label].**\n",
    "\n",
    "Note: this is not an all encompassing test, but its a good indicator that, if you pass, you are on the right track! This iterates through your list of misclassified examples and checks to see if any red traffic lights have been mistakenly labelled [0, 1, 0] (green)."
   ]
  },
  {
   "cell_type": "code",
   "execution_count": 260,
   "metadata": {},
   "outputs": [
    {
     "data": {
      "text/markdown": [
       "**<span style=\"color: green;\">TEST PASSED</span>**"
      ],
      "text/plain": [
       "<IPython.core.display.Markdown object>"
      ]
     },
     "metadata": {},
     "output_type": "display_data"
    }
   ],
   "source": [
    "# Importing the tests\n",
    "import test_functions\n",
    "tests = test_functions.Tests()\n",
    "\n",
    "if(len(MISCLASSIFIED) > 0):\n",
    "    # Test code for one_hot_encode function\n",
    "    tests.test_red_as_green(MISCLASSIFIED)\n",
    "else:\n",
    "    print(\"MISCLASSIFIED may not have been populated with images.\")\n"
   ]
  },
  {
   "cell_type": "markdown",
   "metadata": {},
   "source": [
    "# 5. Improve your algorithm!\n",
    "\n",
    "**Submit your project after you have completed all implementations, answered all questions, AND when you've met the two criteria:**\n",
    "1. Greater than 90% accuracy classification\n",
    "2. No red lights classified as green\n",
    "\n",
    "If you did not meet these requirements (which is common on the first attempt!), revisit your algorithm and tweak it to improve light recognition -- this could mean changing the brightness feature, performing some background subtraction, or adding another feature!\n",
    "\n",
    "---"
   ]
  },
  {
   "cell_type": "markdown",
   "metadata": {
    "collapsed": true
   },
   "source": [
    "### Going Further (Optional Challenges)\n",
    "\n",
    "If you found this challenge easy, I suggest you go above and beyond! Here are a couple **optional** (meaning you do not need to implement these to submit and pass the project) suggestions:\n",
    "* (Optional) Aim for >95% classification accuracy.\n",
    "* (Optional) Some lights are in the shape of arrows; further classify the lights as round or arrow-shaped.\n",
    "* (Optional) Add another feature and aim for as close to 100% accuracy as you can get!"
   ]
  },
  {
   "cell_type": "code",
   "execution_count": null,
   "metadata": {
    "collapsed": true
   },
   "outputs": [],
   "source": []
  }
 ],
 "metadata": {
  "anaconda-cloud": {},
  "kernelspec": {
   "display_name": "Python 3",
   "language": "python",
   "name": "python3"
  },
  "language_info": {
   "codemirror_mode": {
    "name": "ipython",
    "version": 3
   },
   "file_extension": ".py",
   "mimetype": "text/x-python",
   "name": "python",
   "nbconvert_exporter": "python",
   "pygments_lexer": "ipython3",
   "version": "3.7.3"
  }
 },
 "nbformat": 4,
 "nbformat_minor": 2
}
